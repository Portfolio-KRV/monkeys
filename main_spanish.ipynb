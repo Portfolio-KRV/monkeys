version https://git-lfs.github.com/spec/v1
oid sha256:d04b29f8f64e5091505c8e59f54cbf57e11dd7481be0d9466e38fda13ac579df
size 46824566
